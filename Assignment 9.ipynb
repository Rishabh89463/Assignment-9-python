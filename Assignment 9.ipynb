{
 "cells": [
  {
   "cell_type": "code",
   "execution_count": 1,
   "id": "1886c50a-8638-41f6-84af-183d0ccb853a",
   "metadata": {},
   "outputs": [],
   "source": [
    "# 1. To what does a relative path refer?\n",
    "\n",
    "\n",
    "# A relative path refers to a location that is relative to a current directory. It specifies a path to a file or directory starting from the current working directory rather than from the root directory (absolute path)."
   ]
  },
  {
   "cell_type": "code",
   "execution_count": 2,
   "id": "e6837a86-4f58-49fe-a606-874ffc67d42d",
   "metadata": {},
   "outputs": [],
   "source": [
    "# 2. What does an absolute path start with your operating system?"
   ]
  },
  {
   "cell_type": "code",
   "execution_count": 3,
   "id": "bbd731fe-c290-4852-90f4-3814f62bfa23",
   "metadata": {},
   "outputs": [],
   "source": [
    "# An absolute path is a complete path that specifies the location of a file or directory from the root directory of the filesystem. The format of an absolute path depends on the operating system you are using:\n",
    "\n",
    "\n",
    "# On Windows:\n",
    "# An absolute path starts with a drive letter followed by a colon and a backslash (C:\\), which represents the root directory of that drive.\n",
    "# Example: C:\\Users\\user\\documents\\report.txt"
   ]
  },
  {
   "cell_type": "code",
   "execution_count": 4,
   "id": "849fd459-1867-408a-ba6b-21684540dec0",
   "metadata": {},
   "outputs": [],
   "source": [
    "# 3. What do the functions os.getcwd() and os.chdir() do?"
   ]
  },
  {
   "cell_type": "code",
   "execution_count": 5,
   "id": "53b55b81-d256-4670-98bc-9a48481f7f3a",
   "metadata": {},
   "outputs": [],
   "source": [
    "# The functions os.getcwd() and os.chdir() are part of the os module in Python, which provides a way to interact with the operating system. Here's what they do:\n",
    "\n",
    "# os.getcwd()\n",
    "# Purpose: This function returns the current working directory, which is the directory from which the Python script is being executed.\n",
    "# Usage: It allows you to find out the current directory your program is working in.\n",
    "\n",
    "# os.chdir(path)\n",
    "# Purpose: This function changes the current working directory to the specified path.\n",
    "# Usage: It allows you to change the directory your program is working in."
   ]
  },
  {
   "cell_type": "code",
   "execution_count": 6,
   "id": "80ee2f44-81e7-4227-b07f-de445c91258e",
   "metadata": {},
   "outputs": [],
   "source": [
    "# 4. What are the . and .. folders?"
   ]
  },
  {
   "cell_type": "code",
   "execution_count": 7,
   "id": "0044cf58-f539-421d-a2f7-a30ecece6f95",
   "metadata": {},
   "outputs": [],
   "source": [
    "# In the context of file systems, . and .. are special directory entries that refer to specific locations relative to the current directory:\n",
    "\n",
    "# . (Single Dot)\n",
    "# Purpose: Represents the current directory.\n",
    "# Usage: It is used to refer to the current directory itself.\n",
    "\n",
    "# .. (Double Dots)\n",
    "# Purpose: Represents the parent directory of the current directory.\n",
    "# Usage: It is used to navigate to the parent directory or to refer to the parent directory in file paths."
   ]
  },
  {
   "cell_type": "code",
   "execution_count": 8,
   "id": "eb64eeee-f755-497e-9aec-d92419b3dab3",
   "metadata": {},
   "outputs": [],
   "source": [
    "# 5. In C:\\bacon\\eggs\\spam.txt, which part is the dir name, and which part is the base name?"
   ]
  },
  {
   "cell_type": "code",
   "execution_count": 9,
   "id": "f7f8732f-0ed8-485c-83b3-7fdf67603ade",
   "metadata": {},
   "outputs": [],
   "source": [
    "# In the path C:\\bacon\\eggs\\spam.txt:\n",
    "\n",
    "# Directory Name (dir name): This refers to the path of the directory containing the file. In this case, the directory name is C:\\bacon\\eggs.\n",
    "# Base Name (base name): This refers to the name of the file or the last component of the path. In this case, the base name is spam.txt."
   ]
  },
  {
   "cell_type": "code",
   "execution_count": 10,
   "id": "33295905-5372-4861-ade5-be60f6f4345f",
   "metadata": {},
   "outputs": [],
   "source": [
    "# 6. What are the three “mode” arguments that can be passed to the open() function?"
   ]
  },
  {
   "cell_type": "code",
   "execution_count": 11,
   "id": "e8c69a6f-5750-45d7-b755-dfb01cc0e0a6",
   "metadata": {},
   "outputs": [],
   "source": [
    "# The open() function in Python can be used to open a file, and it accepts a variety of \"mode\" arguments that determine how the file will be opened. The three primary mode arguments are:\n",
    "\n",
    "# 1. Read Mode ('r'):\n",
    "# Purpose: Open a file for reading. The file must exist, or an error will be raised.\n",
    "\n",
    "\n",
    "# 2. Write Mode ('w'):\n",
    "# Purpose: Open a file for writing. If the file exists, it is truncated (emptied). If the file does not exist, it is created.\n",
    "\n",
    "# 3. Append Mode ('a'):\n",
    "# Purpose: Open a file for appending. All data written to the file is added at the end. If the file does not exist, it is created."
   ]
  },
  {
   "cell_type": "code",
   "execution_count": 12,
   "id": "fa531df9-541b-4c94-b484-537a84db25bc",
   "metadata": {},
   "outputs": [],
   "source": [
    "# 7. What happens if an existing file is opened in write mode?"
   ]
  },
  {
   "cell_type": "code",
   "execution_count": 13,
   "id": "cdcfd68a-60f8-4f78-a870-d9b3fcc6fe37",
   "metadata": {},
   "outputs": [],
   "source": [
    "# If an existing file is opened in write mode ('w'), the following happens:\n",
    "\n",
    "# The file is truncated: This means that all the existing contents of the file are deleted, and the file size is set to zero. Essentially, the file is emptied.\n",
    "# The file is opened for writing: You can now write new data to the file, starting from the beginning."
   ]
  },
  {
   "cell_type": "code",
   "execution_count": 14,
   "id": "811df09d-ed85-4253-ac20-1690ae21e801",
   "metadata": {},
   "outputs": [],
   "source": [
    "# 8. How do you tell the difference between read() and readlines()?"
   ]
  },
  {
   "cell_type": "code",
   "execution_count": 15,
   "id": "b9936ddf-9598-4cd0-8b50-0a907588a697",
   "metadata": {},
   "outputs": [],
   "source": [
    "# Key Differences:\n",
    "# Return Type:\n",
    "# read(): Returns a single string containing the entire file content.\n",
    "# readlines(): Returns a list of strings, where each string is a line from the file.\n",
    "\n",
    "# Usage Context:\n",
    "# read(): Suitable when the whole file content needs to be processed as one block.\n",
    "# readlines(): Suitable when processing individual lines separately is required, such as iterating over each line."
   ]
  },
  {
   "cell_type": "code",
   "execution_count": 16,
   "id": "dcd9de77-0af6-45d8-a96d-a927cc03c258",
   "metadata": {},
   "outputs": [],
   "source": [
    "# 9. What data structure does a shelf value resemble?"
   ]
  },
  {
   "cell_type": "code",
   "execution_count": 17,
   "id": "6a7d3d44-b2ff-45aa-bccd-b894b02fb0ef",
   "metadata": {},
   "outputs": [],
   "source": [
    "# A shelve value in Python resembles a dictionary. The shelve module provides a persistent, dictionary-like object that allows you to store Python objects in a file on disk. Just like a dictionary, a shelve object allows you to use keys to store and retrieve values."
   ]
  },
  {
   "cell_type": "code",
   "execution_count": null,
   "id": "d5de7425-0823-4d4d-b50c-779358a38f39",
   "metadata": {},
   "outputs": [],
   "source": []
  }
 ],
 "metadata": {
  "kernelspec": {
   "display_name": "Python 3 (ipykernel)",
   "language": "python",
   "name": "python3"
  },
  "language_info": {
   "codemirror_mode": {
    "name": "ipython",
    "version": 3
   },
   "file_extension": ".py",
   "mimetype": "text/x-python",
   "name": "python",
   "nbconvert_exporter": "python",
   "pygments_lexer": "ipython3",
   "version": "3.10.8"
  }
 },
 "nbformat": 4,
 "nbformat_minor": 5
}
